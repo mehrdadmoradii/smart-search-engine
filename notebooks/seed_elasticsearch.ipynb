{
 "cells": [
  {
   "cell_type": "code",
   "execution_count": 1,
   "id": "7b1aa8c8",
   "metadata": {},
   "outputs": [],
   "source": [
    "from elasticsearch import Elasticsearch"
   ]
  },
  {
   "cell_type": "code",
   "execution_count": 2,
   "id": "7eec07ed",
   "metadata": {},
   "outputs": [],
   "source": [
    "client = Elasticsearch('http://localhost:9200')"
   ]
  },
  {
   "cell_type": "code",
   "execution_count": 3,
   "id": "96770614",
   "metadata": {},
   "outputs": [
    {
     "data": {
      "text/plain": [
       "ObjectApiResponse({'acknowledged': True, 'shards_acknowledged': True, 'index': 'articles'})"
      ]
     },
     "execution_count": 3,
     "metadata": {},
     "output_type": "execute_result"
    }
   ],
   "source": [
    "client.indices.create(index='articles')"
   ]
  },
  {
   "cell_type": "code",
   "execution_count": 4,
   "id": "b7941253",
   "metadata": {},
   "outputs": [],
   "source": [
    "import os\n",
    "import json\n",
    "\n",
    "file_name = 'data.json'\n",
    "path = os.path.join('./data', file_name)\n",
    "\n",
    "with open(path, 'r') as f:\n",
    "    dataset = json.load(f)"
   ]
  },
  {
   "cell_type": "code",
   "execution_count": 5,
   "id": "8afddad9",
   "metadata": {},
   "outputs": [
    {
     "data": {
      "text/plain": [
       "dict_keys(['section_title', 'text', 'main_section', 'article_title', 'source_url', 'page_id', 'tags', 'section_number'])"
      ]
     },
     "execution_count": 5,
     "metadata": {},
     "output_type": "execute_result"
    }
   ],
   "source": [
    "dataset[0].keys()"
   ]
  },
  {
   "cell_type": "code",
   "execution_count": 6,
   "id": "09865f19",
   "metadata": {},
   "outputs": [
    {
     "name": "stderr",
     "output_type": "stream",
     "text": [
      "/var/folders/s8/f8xgllz10fb7rwj2v8qfjcvh0000gn/T/ipykernel_16814/3609417620.py:3: DeprecationWarning: The 'body' parameter is deprecated and will be removed in a future version. Instead use the 'document' parameter. See https://github.com/elastic/elasticsearch-py/issues/1698 for more information\n",
      "  client.create(index='articles', body=article_json, id=i)\n"
     ]
    }
   ],
   "source": [
    "for i, article in enumerate(dataset):\n",
    "    article_json = json.dumps(article)\n",
    "    client.create(index='articles', body=article_json, id=i)"
   ]
  },
  {
   "cell_type": "code",
   "execution_count": 14,
   "id": "472f7f71",
   "metadata": {},
   "outputs": [
    {
     "name": "stdout",
     "output_type": "stream",
     "text": [
      "Pandemic\n",
      "Pandemic\n",
      "Pandemic\n"
     ]
    },
    {
     "name": "stderr",
     "output_type": "stream",
     "text": [
      "/var/folders/s8/f8xgllz10fb7rwj2v8qfjcvh0000gn/T/ipykernel_16814/3775881979.py:1: DeprecationWarning: The 'body' parameter is deprecated and will be removed in a future version. Instead use individual parameters.\n",
      "  res = client.search(\n"
     ]
    }
   ],
   "source": [
    "res = client.search(\n",
    "    index='articles',\n",
    "    body={\n",
    "        \"size\":3\n",
    "    },\n",
    ")['hits']['hits']\n",
    "\n",
    "for r in res:\n",
    "    print(r['_source']['article_title'])"
   ]
  }
 ],
 "metadata": {
  "kernelspec": {
   "display_name": "search-kernel",
   "language": "python",
   "name": "search-kernel"
  },
  "language_info": {
   "codemirror_mode": {
    "name": "ipython",
    "version": 3
   },
   "file_extension": ".py",
   "mimetype": "text/x-python",
   "name": "python",
   "nbconvert_exporter": "python",
   "pygments_lexer": "ipython3",
   "version": "3.9.6"
  }
 },
 "nbformat": 4,
 "nbformat_minor": 5
}
