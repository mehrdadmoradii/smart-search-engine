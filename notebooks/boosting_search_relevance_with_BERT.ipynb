{
 "cells": [
  {
   "cell_type": "code",
   "execution_count": 1,
   "id": "ef520af5",
   "metadata": {},
   "outputs": [],
   "source": [
    "from elasticsearch import Elasticsearch\n",
    "from sentence_transformers import SentenceTransformer, util"
   ]
  },
  {
   "cell_type": "code",
   "execution_count": 2,
   "id": "19ab376c",
   "metadata": {},
   "outputs": [],
   "source": [
    "client = Elasticsearch('http://localhost:9200')"
   ]
  },
  {
   "cell_type": "markdown",
   "id": "18efbfa3",
   "metadata": {},
   "source": [
    "<h1>Adding semantic similarity to our search-mechanism</h1>"
   ]
  },
  {
   "cell_type": "code",
   "execution_count": 3,
   "id": "71f2aa9b",
   "metadata": {},
   "outputs": [],
   "source": [
    "def search_elasticsearch(query: str):\n",
    "    res = client.search(\n",
    "        index='articles',\n",
    "        body={\n",
    "          \"size\": 50,\n",
    "          \"query\": {\n",
    "            \"bool\": {\n",
    "              \"must\": [\n",
    "                {\"multi_match\": {\n",
    "                  \"query\": query,\n",
    "                  \"fields\": [\"text^3\", \"article_title^3\"]\n",
    "                }}\n",
    "              ],\n",
    "              \"must_not\": [\n",
    "                {\"match\": {\"main_section\": \"External links\"}}\n",
    "              ],\n",
    "              \"should\": [\n",
    "                {\"match\": {\"main_section\": {\"query\": \"Summary\",\"boost\": 2}}}\n",
    "              ]\n",
    "            }\n",
    "          },\n",
    "          \"highlight\": {\n",
    "            \"fields\": {\n",
    "              \"text\": {}\n",
    "             } \n",
    "          }\n",
    "        }\n",
    "    )['hits']['hits']\n",
    "    \n",
    "    res = [dict(\n",
    "        source=article['_source'], \n",
    "        highlight=article['highlight']['text']\n",
    "    ) for article in res]\n",
    "    \n",
    "    return res"
   ]
  },
  {
   "cell_type": "code",
   "execution_count": 6,
   "id": "f580e67d",
   "metadata": {},
   "outputs": [
    {
     "name": "stdout",
     "output_type": "stream",
     "text": [
      "['from plant to plant <em>by</em> insects that feed on plant sap, such as aphids; and viruses in <em>animals</em> <em>can</em> <em>be</em>', 'Norovirus and rotavirus, common causes of viral gastroenteritis, are <em>transmitted</em> <em>by</em> the faecal–oral route', 'HIV is one of several viruses <em>transmitted</em> through sexual contact and <em>by</em> exposure to infected blood.', 'This <em>can</em> <em>be</em> narrow, meaning a virus is capable of infecting few species, or broad, meaning it is capable', 'Immune responses <em>can</em> also <em>be</em> produced <em>by</em> vaccines, <em>which</em> confer an artificially acquired immunity to']\n"
     ]
    },
    {
     "name": "stderr",
     "output_type": "stream",
     "text": [
      "/var/folders/s8/f8xgllz10fb7rwj2v8qfjcvh0000gn/T/ipykernel_17335/178186605.py:2: DeprecationWarning: The 'body' parameter is deprecated and will be removed in a future version. Instead use individual parameters.\n",
      "  res = client.search(\n"
     ]
    }
   ],
   "source": [
    "query = 'Which diseases can be transmitted by animals?'\n",
    "r = search_elasticsearch(query)\n",
    "print(r[0]['highlight'])"
   ]
  },
  {
   "cell_type": "code",
   "execution_count": 5,
   "id": "0f914e6f",
   "metadata": {},
   "outputs": [
    {
     "name": "stderr",
     "output_type": "stream",
     "text": [
      "No sentence-transformers model found with name /Users/mehrdadmoradi/.cache/torch/sentence_transformers/prajjwal1_bert-tiny. Creating a new one with MEAN pooling.\n",
      "Some weights of the model checkpoint at /Users/mehrdadmoradi/.cache/torch/sentence_transformers/prajjwal1_bert-tiny were not used when initializing BertModel: ['cls.predictions.decoder.bias', 'cls.seq_relationship.bias', 'cls.predictions.bias', 'cls.predictions.transform.dense.weight', 'cls.seq_relationship.weight', 'cls.predictions.transform.dense.bias', 'cls.predictions.transform.LayerNorm.bias', 'cls.predictions.decoder.weight', 'cls.predictions.transform.LayerNorm.weight']\n",
      "- This IS expected if you are initializing BertModel from the checkpoint of a model trained on another task or with another architecture (e.g. initializing a BertForSequenceClassification model from a BertForPreTraining model).\n",
      "- This IS NOT expected if you are initializing BertModel from the checkpoint of a model that you expect to be exactly identical (initializing a BertForSequenceClassification model from a BertForSequenceClassification model).\n"
     ]
    }
   ],
   "source": [
    "model = SentenceTransformer('prajjwal1/bert-tiny')"
   ]
  },
  {
   "cell_type": "code",
   "execution_count": 6,
   "id": "b091ffda",
   "metadata": {},
   "outputs": [],
   "source": [
    "query_vector = model.encode(query)\n",
    "\n",
    "for article in r:\n",
    "    text = article['source']['text']\n",
    "    vector = model.encode(text)\n",
    "    score = util.cos_sim(query_vector, vector)\n",
    "    article.update({'score': score.item()})"
   ]
  },
  {
   "cell_type": "code",
   "execution_count": 7,
   "id": "ffa1c674",
   "metadata": {},
   "outputs": [
    {
     "data": {
      "text/plain": [
       "dict_keys(['source', 'highlight', 'score'])"
      ]
     },
     "execution_count": 7,
     "metadata": {},
     "output_type": "execute_result"
    }
   ],
   "source": [
    "r[0].keys()"
   ]
  },
  {
   "cell_type": "markdown",
   "id": "0bc846a5",
   "metadata": {},
   "source": [
    "<h1>refactoring our functions</h1>"
   ]
  },
  {
   "cell_type": "code",
   "execution_count": 17,
   "id": "2710c503",
   "metadata": {},
   "outputs": [],
   "source": [
    "def score(text:str, query:str):\n",
    "    query_vector = model.encode(query)\n",
    "    text_vector = model.encode(text)\n",
    "    cos_sim_score = util.cos_sim(query_vector, text_vector)\n",
    "    return cos_sim_score.item()"
   ]
  },
  {
   "cell_type": "code",
   "execution_count": 18,
   "id": "e162e57b",
   "metadata": {},
   "outputs": [],
   "source": [
    "def get_elasticsearch_dsl(query) -> dict:\n",
    "    return {\n",
    "      \"size\": 50,\n",
    "      \"query\": {\n",
    "        \"bool\": {\n",
    "          \"must\": [\n",
    "            {\"multi_match\": {\n",
    "              \"query\": query,\n",
    "              \"fields\": [\"text^3\", \"article_title^3\"]\n",
    "            }}\n",
    "          ],\n",
    "          \"must_not\": [\n",
    "            {\"match\": {\"main_section\": \"External links\"}}\n",
    "          ],\n",
    "          \"should\": [\n",
    "            {\"match\": {\"main_section\": {\"query\": \"Summary\",\"boost\": 2}}}\n",
    "          ]\n",
    "        }\n",
    "      },\n",
    "      \"highlight\": {\n",
    "        \"fields\": {\n",
    "          \"text\": {}\n",
    "         } \n",
    "      }\n",
    "    }"
   ]
  },
  {
   "cell_type": "code",
   "execution_count": 27,
   "id": "4851b162",
   "metadata": {},
   "outputs": [],
   "source": [
    "def semantic_search(es_client:Elasticsearch, query:str):\n",
    "    search_result = es_client.search(\n",
    "        index='articles',\n",
    "        body=get_elasticsearch_dsl(query)\n",
    "    )['hits']['hits']\n",
    "    \n",
    "    res = [dict(\n",
    "        source=article['_source'], \n",
    "        highlight=article['highlight']['text'],\n",
    "        score=score(article['_source']['text'], query)\n",
    "    ) for article in search_result]\n",
    "    \n",
    "    res = sorted(res, reverse=True, key=lambda x: x['score'])\n",
    "    \n",
    "    return res[:10]"
   ]
  },
  {
   "cell_type": "code",
   "execution_count": 33,
   "id": "25d41948",
   "metadata": {},
   "outputs": [
    {
     "name": "stderr",
     "output_type": "stream",
     "text": [
      "/var/folders/s8/f8xgllz10fb7rwj2v8qfjcvh0000gn/T/ipykernel_7503/275147139.py:2: DeprecationWarning: The 'body' parameter is deprecated and will be removed in a future version. Instead use individual parameters.\n",
      "  search_result = es_client.search(\n",
      "/var/folders/s8/f8xgllz10fb7rwj2v8qfjcvh0000gn/T/ipykernel_7503/275147139.py:2: ElasticsearchWarning: Elasticsearch built-in security features are not enabled. Without authentication, your cluster could be accessible to anyone. See https://www.elastic.co/guide/en/elasticsearch/reference/7.17/security-minimal-setup.html to enable security.\n",
      "  search_result = es_client.search(\n"
     ]
    },
    {
     "name": "stdout",
     "output_type": "stream",
     "text": [
      "Pandemic\n",
      "Virus\n",
      "Swine influenza\n",
      "Swine influenza\n",
      "Virus\n",
      "Virus\n",
      "Virus\n",
      "Virus\n",
      "Pandemic\n",
      "Swine influenza\n"
     ]
    }
   ],
   "source": [
    "result = semantic_search(client, 'Which diseases can be transmitted by animals?')\n",
    "for r in result:\n",
    "    print(r['source']['article_title'])"
   ]
  }
 ],
 "metadata": {
  "kernelspec": {
   "display_name": "search-kernel",
   "language": "python",
   "name": "search-kernel"
  },
  "language_info": {
   "codemirror_mode": {
    "name": "ipython",
    "version": 3
   },
   "file_extension": ".py",
   "mimetype": "text/x-python",
   "name": "python",
   "nbconvert_exporter": "python",
   "pygments_lexer": "ipython3",
   "version": "3.9.6"
  }
 },
 "nbformat": 4,
 "nbformat_minor": 5
}
